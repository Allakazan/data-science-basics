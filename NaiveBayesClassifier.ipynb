{
 "cells": [
  {
   "cell_type": "code",
   "execution_count": 100,
   "metadata": {},
   "outputs": [],
   "source": [
    "import numpy as np\n",
    "import pandas as pd"
   ]
  },
  {
   "cell_type": "code",
   "execution_count": 106,
   "metadata": {},
   "outputs": [],
   "source": [
    "# Helpers\n",
    "\n",
    "def toPercentage(value):\n",
    "  return round(value * 100, 2)\n",
    "\n",
    "def calculateNaiveBayes(pA, pAC, pBA, pBAc):\n",
    "  pB = pBA * pA + pBAc * pAC\n",
    "\n",
    "  pAB = (pBA * pA) / pB\n",
    "\n",
    "  return pAB"
   ]
  },
  {
   "cell_type": "markdown",
   "metadata": {},
   "source": [
    "Imagine there is a rare disease that affects 1% of the population. \n",
    "\n",
    "There is a test to detect this disease, and the test has a true positive rate (sensitivity) of 98% and a false positive rate of 0.6%."
   ]
  },
  {
   "cell_type": "code",
   "execution_count": 107,
   "metadata": {},
   "outputs": [
    {
     "data": {
      "text/html": [
       "<div>\n",
       "<style scoped>\n",
       "    .dataframe tbody tr th:only-of-type {\n",
       "        vertical-align: middle;\n",
       "    }\n",
       "\n",
       "    .dataframe tbody tr th {\n",
       "        vertical-align: top;\n",
       "    }\n",
       "\n",
       "    .dataframe thead th {\n",
       "        text-align: right;\n",
       "    }\n",
       "</style>\n",
       "<table border=\"1\" class=\"dataframe\">\n",
       "  <thead>\n",
       "    <tr style=\"text-align: right;\">\n",
       "      <th></th>\n",
       "      <th>Disease</th>\n",
       "      <th>No Disease</th>\n",
       "    </tr>\n",
       "  </thead>\n",
       "  <tbody>\n",
       "    <tr>\n",
       "      <th>Positive</th>\n",
       "      <td>0.98</td>\n",
       "      <td>0.006</td>\n",
       "    </tr>\n",
       "    <tr>\n",
       "      <th>Negative</th>\n",
       "      <td>0.02</td>\n",
       "      <td>0.994</td>\n",
       "    </tr>\n",
       "  </tbody>\n",
       "</table>\n",
       "</div>"
      ],
      "text/plain": [
       "          Disease  No Disease\n",
       "Positive     0.98       0.006\n",
       "Negative     0.02       0.994"
      ]
     },
     "execution_count": 107,
     "metadata": {},
     "output_type": "execute_result"
    }
   ],
   "source": [
    "df = pd.DataFrame([[.98, .006],[.02, .994]], columns=['Disease', 'No Disease'], index=['Positive', 'Negative'])\n",
    "df"
   ]
  },
  {
   "cell_type": "code",
   "execution_count": 108,
   "metadata": {},
   "outputs": [],
   "source": [
    "# pA = Prevalence (1% of the population)\n",
    "# pAc = Non Prevalence (Proportion of healthy individuals)\n",
    "\n",
    "pA = .01\n",
    "pAC = 1 - pA"
   ]
  },
  {
   "cell_type": "markdown",
   "metadata": {},
   "source": [
    "If a person tests positive, what is the probability that they actually have the disease?"
   ]
  },
  {
   "cell_type": "code",
   "execution_count": 112,
   "metadata": {},
   "outputs": [
    {
     "name": "stdout",
     "output_type": "stream",
     "text": [
      "Positive tested patient has 62.26% of chance of actually having the disease\n"
     ]
    }
   ],
   "source": [
    "pBA = df['Disease']['Positive'] # True Positive Rate\n",
    "pBAc = df['No Disease']['Positive'] # False Positive Rate\n",
    "\n",
    "\n",
    "result_a = toPercentage(calculateNaiveBayes(pA, pAC, pBA, pBAc))\n",
    "\n",
    "print(f\"Positive tested patient has {result_a}% of chance of actually having the disease\")"
   ]
  },
  {
   "cell_type": "markdown",
   "metadata": {},
   "source": [
    "And what if a person tests negative, what’s the probability they aren’t actually ill?"
   ]
  },
  {
   "cell_type": "code",
   "execution_count": 113,
   "metadata": {},
   "outputs": [
    {
     "name": "stdout",
     "output_type": "stream",
     "text": [
      "Negative tested patient has 0.02% of chance of not having the disease\n"
     ]
    }
   ],
   "source": [
    "pBA_2 = df['Disease']['Negative']  # False Negative Rate (probability of a negative test when having the disease)\n",
    "pBAc_2 = df['No Disease']['Negative']  # True Negative Rate (probability of a negative test when not having the disease)\n",
    "\n",
    "\n",
    "result_b = toPercentage(calculateNaiveBayes(pA, pAC, pBA_2, pBAc_2))\n",
    "\n",
    "print(f\"Negative tested patient has {result_b}% of chance of not having the disease\")"
   ]
  }
 ],
 "metadata": {
  "kernelspec": {
   "display_name": "Python 3",
   "language": "python",
   "name": "python3"
  },
  "language_info": {
   "codemirror_mode": {
    "name": "ipython",
    "version": 3
   },
   "file_extension": ".py",
   "mimetype": "text/x-python",
   "name": "python",
   "nbconvert_exporter": "python",
   "pygments_lexer": "ipython3",
   "version": "3.11.9"
  }
 },
 "nbformat": 4,
 "nbformat_minor": 2
}
